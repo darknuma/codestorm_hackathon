{
 "cells": [
  {
   "cell_type": "code",
   "execution_count": null,
   "id": "9af1ff1d",
   "metadata": {},
   "outputs": [],
   "source": [
    "import pandas as pd \n"
   ]
  },
  {
   "cell_type": "code",
   "execution_count": null,
   "id": "fac12cb8",
   "metadata": {},
   "outputs": [],
   "source": [
    "df = pd.read_csv(\"data_assets/master_nigerian_farmer_data.csv\")"
   ]
  }
 ],
 "metadata": {
  "kernelspec": {
   "display_name": ".venv",
   "language": "python",
   "name": "python3"
  },
  "language_info": {
   "name": "python",
   "version": "3.12.6"
  }
 },
 "nbformat": 4,
 "nbformat_minor": 5
}
